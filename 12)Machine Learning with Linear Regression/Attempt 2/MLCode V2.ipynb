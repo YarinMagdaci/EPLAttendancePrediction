{
 "cells": [
  {
   "cell_type": "code",
   "execution_count": 97,
   "id": "17a8f5a8",
   "metadata": {},
   "outputs": [],
   "source": [
    "#In this algorithm we created dictionary that works backwards, 1->Arsenal ,...\n",
    "#we did it by inversing the dictionary we used to set the team names to numeric\n",
    "#then what we do is we let the user to choose what team he wants to try and predict their home games attendance\n",
    "#here we also let the user choose between two linear regression models\n",
    "#one by one variable\n",
    "#second by multiple variables\n",
    "import pandas as pd  \n",
    "import numpy as np  \n",
    "import matplotlib.pyplot as plt  \n",
    "import seaborn as seabornInstance \n",
    "from sklearn.model_selection import train_test_split \n",
    "from sklearn import linear_model\n",
    "from sklearn import metrics\n",
    "%matplotlib inline"
   ]
  },
  {
   "cell_type": "code",
   "execution_count": 98,
   "id": "f9a08eab",
   "metadata": {},
   "outputs": [],
   "source": [
    "df = pd.read_csv('data_ready_for_ML_1.csv')\n",
    "teams_to_num_df = pd.read_csv('teams_dict_data_frame.csv')"
   ]
  },
  {
   "cell_type": "code",
   "execution_count": 99,
   "id": "efc8ff3e",
   "metadata": {},
   "outputs": [],
   "source": [
    "def give_me_from_this_df_dictionary(teams_to_num_df):\n",
    "    team_number = teams_to_num_df['team_number']\n",
    "    team_name = teams_to_num_df['team_name']\n",
    "    return {team_number[i]: team_name[i] for i in range(len(team_number))}"
   ]
  },
  {
   "cell_type": "code",
   "execution_count": 100,
   "id": "c1e3e6f4",
   "metadata": {},
   "outputs": [],
   "source": [
    "teams_dictionary = give_me_from_this_df_dictionary(teams_to_num_df)"
   ]
  },
  {
   "cell_type": "code",
   "execution_count": 101,
   "id": "cb87b5be",
   "metadata": {},
   "outputs": [],
   "source": [
    "#fixing the dent\n",
    "teams_dictionary[0]='Empty dataset'"
   ]
  },
  {
   "cell_type": "code",
   "execution_count": 102,
   "id": "f094f68f",
   "metadata": {},
   "outputs": [],
   "source": [
    "data_frames_list = list()"
   ]
  },
  {
   "cell_type": "code",
   "execution_count": 103,
   "id": "157db786",
   "metadata": {},
   "outputs": [],
   "source": [
    "for x in sorted(teams_dictionary):\n",
    "    new_data_frame = df[df[\"team_1\"] == x]\n",
    "    new_data_frame = new_data_frame.iloc[:,1:]\n",
    "    data_frames_list.append(new_data_frame)"
   ]
  },
  {
   "cell_type": "code",
   "execution_count": 104,
   "id": "b74350bf",
   "metadata": {},
   "outputs": [],
   "source": [
    "#Reversing the dictionary:\n",
    "inv_teams_nums_dict = {v: k for k, v in teams_dictionary.items()}"
   ]
  },
  {
   "cell_type": "code",
   "execution_count": 105,
   "id": "c8305586",
   "metadata": {},
   "outputs": [],
   "source": [
    "def give_me_this_team_plot(this_data):\n",
    "    this_data.plot(x='year', y='attendance', style='o')  \n",
    "    plt.title('year vs attendance')  \n",
    "    plt.xlabel('year')  \n",
    "    plt.ylabel('attendance')  \n",
    "    plt.show()"
   ]
  },
  {
   "cell_type": "code",
   "execution_count": 106,
   "id": "9fc50d20",
   "metadata": {},
   "outputs": [],
   "source": [
    "def give_me_this_team_histogram(this_data):\n",
    "    plt.figure(figsize=(15,10))\n",
    "    plt.tight_layout()\n",
    "    seabornInstance.distplot(this_data['attendance'])"
   ]
  },
  {
   "cell_type": "code",
   "execution_count": 107,
   "id": "7dea8b17",
   "metadata": {},
   "outputs": [],
   "source": [
    "def predict_using_lr_one_var(this_team, inv_teams_nums_dict, data_frames_list):\n",
    "    #lr_rating = linear_model.LinearRegression() \n",
    "    \n",
    "    current_data_frame=data_frames_list[inv_teams_nums_dict[this_team]]\n",
    "    \n",
    "    X = current_data_frame['year'].values.reshape(-1,1)\n",
    "    y = current_data_frame['attendance'].values.reshape(-1,1)\n",
    "    X_train, X_test, y_train, y_test = train_test_split(X, y, test_size=0.2, random_state=0)\n",
    "    regressor = linear_model.LinearRegression()  \n",
    "    regressor.fit(X_train, y_train) #training the algorithm\n",
    "    #To retrieve the intercept:\n",
    "    print(regressor.intercept_)\n",
    "\n",
    "    #For retrieving the slope:\n",
    "    print(regressor.coef_)\n",
    "    \n",
    "    y_pred = regressor.predict(X_test)\n",
    "\n",
    "    prediction_dataframe = pd.DataFrame({'Actual': y_test.flatten(), 'Predicted': y_pred.flatten()})\n",
    "    draw_scatter_plot_equality(X_test, y_test, y_pred)\n",
    "    #draw_bar_equality(prediction_dataframe)\n",
    "    return prediction_dataframe\n",
    "    "
   ]
  },
  {
   "cell_type": "code",
   "execution_count": 108,
   "id": "6883e107",
   "metadata": {},
   "outputs": [],
   "source": [
    "def predict_using_lr_two_var(this_team, inv_teams_nums_dict, data_frames_list):\n",
    "    #lr_rating = linear_model.LinearRegression() \n",
    "    \n",
    "    current_data_frame=data_frames_list[inv_teams_nums_dict[this_team]]\n",
    "    \n",
    "    #current_data_frame = current_data_frame[(current_data_frame['year'] != 1995) & (current_data_frame['year'] != 1996) & (current_data_frame['year'] != 1997) & (current_data_frame['year'] != 1998) & (current_data_frame['year'] != 1999)]\n",
    "    \n",
    "    X = current_data_frame[[\"team_1_rating\",\"team_2_rating\", \"month\", \"derby\", \"city\", \"year\", \"temprature\", \"precipitation\" , \"capacity\"]]\n",
    "    y = current_data_frame['attendance']\n",
    "    X_train, X_test, y_train, y_test = train_test_split(X, y, test_size=0.2, random_state=0)\n",
    "    regressor = linear_model.LinearRegression()  \n",
    "    regressor.fit(X_train, y_train) #training the algorithm\n",
    "    #To retrieve the intercept:\n",
    "    print(regressor.intercept_)\n",
    "\n",
    "    #For retrieving the slope:\n",
    "    print(regressor.coef_)\n",
    "    \n",
    "    y_pred = regressor.predict(X_test)\n",
    "\n",
    "    prediction_dataframe = pd.DataFrame({'Actual': y_test, 'Predicted': y_pred})\n",
    "    #draw_scatter_plot_equality(X_test, y_test, y_pred)\n",
    "    #draw_bar_equality(prediction_dataframe)\n",
    "    return prediction_dataframe\n",
    "    "
   ]
  },
  {
   "cell_type": "code",
   "execution_count": 109,
   "id": "9140aa3a",
   "metadata": {},
   "outputs": [],
   "source": [
    "def draw_bar_equality(this_data):\n",
    "    this_data_1 = this_data.head(25)\n",
    "    this_data_1.plot(kind='bar',figsize=(16,10))\n",
    "    plt.grid(which='major', linestyle='-', linewidth='0.5', color='green')\n",
    "    plt.grid(which='minor', linestyle=':', linewidth='0.5', color='black')\n",
    "    plt.show()"
   ]
  },
  {
   "cell_type": "code",
   "execution_count": 110,
   "id": "91dd15d3",
   "metadata": {},
   "outputs": [],
   "source": [
    "def draw_scatter_plot_equality(X_test, y_test, y_pred):\n",
    "    plt.scatter(X_test, y_test,  color='gray')\n",
    "    plt.plot(X_test, y_pred, color='red', linewidth=2)\n",
    "    plt.show()"
   ]
  },
  {
   "cell_type": "code",
   "execution_count": 111,
   "id": "0c30baa6",
   "metadata": {},
   "outputs": [
    {
     "name": "stdout",
     "output_type": "stream",
     "text": [
      "Insert team name: Barnsley\n",
      "Insert 1 for one variable linear regression / 2 for multiply variables linear regressions: 2\n",
      "18362.630255411477\n",
      "[ 22.32322878 -31.9534371   11.66836503   0.           0.\n",
      "   0.          31.49668343  -7.96686757   0.        ]\n"
     ]
    }
   ],
   "source": [
    "#Write here the team name you would like to check:\n",
    "team_name = input(\"Insert team name: \")\n",
    "option = int(input(\"Insert 1 for one variable linear regression / 2 for multiply variables linear regressions: \"))\n",
    "if(option == 1):\n",
    "    this_df=predict_using_lr_one_var(team_name, inv_teams_nums_dict, data_frames_list)\n",
    "else:\n",
    "    this_df=predict_using_lr_two_var(team_name, inv_teams_nums_dict, data_frames_list)"
   ]
  },
  {
   "cell_type": "code",
   "execution_count": 112,
   "id": "31843b43",
   "metadata": {},
   "outputs": [],
   "source": [
    "this_df.Predicted=this_df['Predicted'].astype('int64')"
   ]
  },
  {
   "cell_type": "code",
   "execution_count": null,
   "id": "4f2ec331",
   "metadata": {},
   "outputs": [],
   "source": []
  },
  {
   "cell_type": "code",
   "execution_count": 113,
   "id": "d4f8ca72",
   "metadata": {},
   "outputs": [],
   "source": [
    "test = this_df.copy()"
   ]
  },
  {
   "cell_type": "code",
   "execution_count": 114,
   "id": "d5dbef13",
   "metadata": {},
   "outputs": [],
   "source": [
    "test['error'] = 0"
   ]
  },
  {
   "cell_type": "code",
   "execution_count": 115,
   "id": "e858feef",
   "metadata": {},
   "outputs": [],
   "source": [
    "test['error_per'] = 0"
   ]
  },
  {
   "cell_type": "code",
   "execution_count": 116,
   "id": "005e2a78",
   "metadata": {},
   "outputs": [
    {
     "data": {
      "text/html": [
       "<div>\n",
       "<style scoped>\n",
       "    .dataframe tbody tr th:only-of-type {\n",
       "        vertical-align: middle;\n",
       "    }\n",
       "\n",
       "    .dataframe tbody tr th {\n",
       "        vertical-align: top;\n",
       "    }\n",
       "\n",
       "    .dataframe thead th {\n",
       "        text-align: right;\n",
       "    }\n",
       "</style>\n",
       "<table border=\"1\" class=\"dataframe\">\n",
       "  <thead>\n",
       "    <tr style=\"text-align: right;\">\n",
       "      <th></th>\n",
       "      <th>Actual</th>\n",
       "      <th>Predicted</th>\n",
       "      <th>error</th>\n",
       "      <th>error_per</th>\n",
       "    </tr>\n",
       "  </thead>\n",
       "  <tbody>\n",
       "    <tr>\n",
       "      <th>965</th>\n",
       "      <td>18687</td>\n",
       "      <td>18325</td>\n",
       "      <td>0</td>\n",
       "      <td>0</td>\n",
       "    </tr>\n",
       "    <tr>\n",
       "      <th>789</th>\n",
       "      <td>18691</td>\n",
       "      <td>18806</td>\n",
       "      <td>0</td>\n",
       "      <td>0</td>\n",
       "    </tr>\n",
       "    <tr>\n",
       "      <th>914</th>\n",
       "      <td>17819</td>\n",
       "      <td>17981</td>\n",
       "      <td>0</td>\n",
       "      <td>0</td>\n",
       "    </tr>\n",
       "    <tr>\n",
       "      <th>1131</th>\n",
       "      <td>18667</td>\n",
       "      <td>18515</td>\n",
       "      <td>0</td>\n",
       "      <td>0</td>\n",
       "    </tr>\n",
       "  </tbody>\n",
       "</table>\n",
       "</div>"
      ],
      "text/plain": [
       "      Actual  Predicted  error  error_per\n",
       "965    18687      18325      0          0\n",
       "789    18691      18806      0          0\n",
       "914    17819      17981      0          0\n",
       "1131   18667      18515      0          0"
      ]
     },
     "execution_count": 116,
     "metadata": {},
     "output_type": "execute_result"
    }
   ],
   "source": [
    "test"
   ]
  },
  {
   "cell_type": "code",
   "execution_count": 121,
   "id": "b7d8c98d",
   "metadata": {},
   "outputs": [],
   "source": [
    "for x in range(test.shape[0]):\n",
    "    current_error = abs(test.iloc[x, 0] - test.iloc[x,1])\n",
    "    current_error_per = abs(test.iloc[x, 0] - test.iloc[x,1]) / test.iloc[x, 0] * 100\n",
    "    test.iloc[x,int(test.shape[1])-2] = current_error\n",
    "    test.iloc[x,int(test.shape[1])-1] = current_error_per"
   ]
  },
  {
   "cell_type": "code",
   "execution_count": 122,
   "id": "f2b2923f",
   "metadata": {},
   "outputs": [
    {
     "data": {
      "text/html": [
       "<div>\n",
       "<style scoped>\n",
       "    .dataframe tbody tr th:only-of-type {\n",
       "        vertical-align: middle;\n",
       "    }\n",
       "\n",
       "    .dataframe tbody tr th {\n",
       "        vertical-align: top;\n",
       "    }\n",
       "\n",
       "    .dataframe thead th {\n",
       "        text-align: right;\n",
       "    }\n",
       "</style>\n",
       "<table border=\"1\" class=\"dataframe\">\n",
       "  <thead>\n",
       "    <tr style=\"text-align: right;\">\n",
       "      <th></th>\n",
       "      <th>Actual</th>\n",
       "      <th>Predicted</th>\n",
       "      <th>error</th>\n",
       "      <th>error_per</th>\n",
       "    </tr>\n",
       "  </thead>\n",
       "  <tbody>\n",
       "    <tr>\n",
       "      <th>965</th>\n",
       "      <td>18687</td>\n",
       "      <td>18325</td>\n",
       "      <td>362</td>\n",
       "      <td>1.937176</td>\n",
       "    </tr>\n",
       "    <tr>\n",
       "      <th>789</th>\n",
       "      <td>18691</td>\n",
       "      <td>18806</td>\n",
       "      <td>115</td>\n",
       "      <td>0.615269</td>\n",
       "    </tr>\n",
       "    <tr>\n",
       "      <th>914</th>\n",
       "      <td>17819</td>\n",
       "      <td>17981</td>\n",
       "      <td>162</td>\n",
       "      <td>0.909142</td>\n",
       "    </tr>\n",
       "    <tr>\n",
       "      <th>1131</th>\n",
       "      <td>18667</td>\n",
       "      <td>18515</td>\n",
       "      <td>152</td>\n",
       "      <td>0.814271</td>\n",
       "    </tr>\n",
       "  </tbody>\n",
       "</table>\n",
       "</div>"
      ],
      "text/plain": [
       "      Actual  Predicted  error  error_per\n",
       "965    18687      18325    362   1.937176\n",
       "789    18691      18806    115   0.615269\n",
       "914    17819      17981    162   0.909142\n",
       "1131   18667      18515    152   0.814271"
      ]
     },
     "execution_count": 122,
     "metadata": {},
     "output_type": "execute_result"
    }
   ],
   "source": [
    "test"
   ]
  },
  {
   "cell_type": "code",
   "execution_count": 123,
   "id": "57e3a694",
   "metadata": {},
   "outputs": [],
   "source": [
    "test.to_csv(team_name+'tested.csv')"
   ]
  },
  {
   "cell_type": "code",
   "execution_count": null,
   "id": "78df8edd",
   "metadata": {},
   "outputs": [],
   "source": []
  }
 ],
 "metadata": {
  "kernelspec": {
   "display_name": "Python 3 (ipykernel)",
   "language": "python",
   "name": "python3"
  },
  "language_info": {
   "codemirror_mode": {
    "name": "ipython",
    "version": 3
   },
   "file_extension": ".py",
   "mimetype": "text/x-python",
   "name": "python",
   "nbconvert_exporter": "python",
   "pygments_lexer": "ipython3",
   "version": "3.9.6"
  }
 },
 "nbformat": 4,
 "nbformat_minor": 5
}
