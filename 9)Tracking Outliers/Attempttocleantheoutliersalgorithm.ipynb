{
 "cells": [
  {
   "cell_type": "code",
   "execution_count": 1,
   "id": "dd31b468",
   "metadata": {},
   "outputs": [],
   "source": [
    "import pandas as pd\n",
    "import numpy as np\n",
    "import matplotlib as mpl\n",
    "from matplotlib import pyplot as plt\n",
    "%matplotlib inline\n",
    "import warnings\n",
    "warnings.filterwarnings(\"ignore\")"
   ]
  },
  {
   "cell_type": "code",
   "execution_count": 2,
   "id": "4f77b7fb",
   "metadata": {},
   "outputs": [],
   "source": [
    "df = pd.read_csv('bigData_cleaned2.csv', header=0, sep=',') "
   ]
  },
  {
   "cell_type": "code",
   "execution_count": 3,
   "id": "2c84bf97",
   "metadata": {},
   "outputs": [
    {
     "data": {
      "image/png": "[encoded data removed]",
      "text/plain": [
       "<Figure size 432x288 with 1 Axes>"
      ]
     },
     "metadata": {
      "needs_background": "light"
     },
     "output_type": "display_data"
    }
   ],
   "source": [
    "plt.hist(df.attendance, bins=50)\n",
    "plt.xlabel=(\"Fare\")\n",
    "plt.ylabel=(\"Frequency\")"
   ]
  },
  {
   "cell_type": "code",
   "execution_count": 4,
   "id": "09a0b1d6",
   "metadata": {},
   "outputs": [],
   "source": [
    "#sum(df.attendance>60000)\n",
    "import seaborn as sns"
   ]
  },
  {
   "cell_type": "code",
   "execution_count": 14,
   "id": "9e097195",
   "metadata": {},
   "outputs": [
    {
     "data": {
      "text/plain": [
       "<AxesSubplot:xlabel='attendance'>"
      ]
     },
     "execution_count": 14,
     "metadata": {},
     "output_type": "execute_result"
    },
    {
     "data": {
      "image/png": "[encoded data removed]",
      "text/plain": [
       "<Figure size 432x288 with 1 Axes>"
      ]
     },
     "metadata": {
      "needs_background": "light"
     },
     "output_type": "display_data"
    }
   ],
   "source": [
    "sns.boxplot(df.attendance)"
   ]
  },
  {
   "cell_type": "code",
   "execution_count": 6,
   "id": "c61d8f69",
   "metadata": {},
   "outputs": [],
   "source": [
    "Q1 = np.percentile(df[\"attendance\"], 25)\n",
    "Q3 = np.percentile(df[\"attendance\"], 75)\n",
    "IQR = Q3 - Q1"
   ]
  },
  {
   "cell_type": "code",
   "execution_count": 7,
   "id": "2a3e3fac",
   "metadata": {},
   "outputs": [],
   "source": [
    "attendance_outlier_rows = df[(df[\"attendance\"] < Q1 - 1.5*IQR) | (df[\"attendance\"] > Q3 + 1.5*IQR )].index"
   ]
  },
  {
   "cell_type": "code",
   "execution_count": 8,
   "id": "3925d309",
   "metadata": {},
   "outputs": [],
   "source": [
    "mycols = [\"attendance\"]\n",
    "all_outlier_rows = []\n",
    "for col in mycols:        \n",
    "        Q1 = np.percentile(df[col], 25)\n",
    "        Q3 = np.percentile(df[col], 75)\n",
    "        IQR = Q3 - Q1\n",
    "        IQR_range = 1.5 * IQR\n",
    "        col_outlier = df[(df[col] < Q1 - IQR_range) | \n",
    "                              (df[col] > Q3 + IQR_range )].index\n",
    "        all_outlier_rows.extend(col_outlier)"
   ]
  },
  {
   "cell_type": "code",
   "execution_count": 12,
   "id": "7df25cc3",
   "metadata": {},
   "outputs": [],
   "source": [
    "df.attendance[(df[\"attendance\"] < Q1 - 1.5*IQR) | (df[\"attendance\"] > Q3 + 1.5*IQR )] = (df[\"attendance\"] - df[\"attendance\"].mean()) / df[\"attendance\"].std()"
   ]
  },
  {
   "cell_type": "code",
   "execution_count": 15,
   "id": "2d607cb8",
   "metadata": {},
   "outputs": [],
   "source": [
    "df=df.iloc[:,1:]"
   ]
  },
  {
   "cell_type": "code",
   "execution_count": 16,
   "id": "dc08b8b4",
   "metadata": {},
   "outputs": [],
   "source": [
    "df.to_csv('data_no_outliers.csv')"
   ]
  },
  {
   "cell_type": "code",
   "execution_count": null,
   "id": "9eeb0d6a",
   "metadata": {},
   "outputs": [],
   "source": []
  }
 ],
 "metadata": {
  "kernelspec": {
   "display_name": "Python 3 (ipykernel)",
   "language": "python",
   "name": "python3"
  },
  "language_info": {
   "codemirror_mode": {
    "name": "ipython",
    "version": 3
   },
   "file_extension": ".py",
   "mimetype": "text/x-python",
   "name": "python",
   "nbconvert_exporter": "python",
   "pygments_lexer": "ipython3",
   "version": "3.9.6"
  }
 },
 "nbformat": 4,
 "nbformat_minor": 5
}
