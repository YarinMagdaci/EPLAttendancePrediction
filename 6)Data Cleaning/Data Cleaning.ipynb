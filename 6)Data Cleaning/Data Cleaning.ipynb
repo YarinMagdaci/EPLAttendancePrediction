{
 "cells": [
  {
   "cell_type": "code",
   "execution_count": 132,
   "id": "3db62ec7",
   "metadata": {},
   "outputs": [],
   "source": [
    "#What our goal was here:\n",
    "#We had some games with NaN attendance because between seasons 2007/08 -> 2008/09 we had something like between 200 - 300 missing\n",
    "#attendance, in some of the other seasons we had few and there so it summed up to 523 games out of 8473\n",
    "#Our goal was to find for instance this specific game:\n",
    "#let's say: Manchester United vs Liverpool in 2007/08 , attendance=Nan, stadium: Old Trafford\n",
    "#First we converted for our own convience attendace = NaN to attendance = 0\n",
    "#Second we track all of Manchester United vs Liverpool at stadium:Old Trafford games which attendance!=0\n",
    "#Third we replaced the 0s with the mean of the games we tracked at section 2 [above]\n",
    "#Fourth we track all of the 0s left in the dataframe, meaning we had only one time this game between these two specific teams\n",
    "#in this specific stadium\n",
    "#Meaning we need to drop this damaged data because we have no other way to get it's attendance\n",
    "#Therefore we did drop this praticular data, to be accurate 9 rows exactly.\n",
    "#Meaning with our method to clean the data we managed to keep 523-9 rows! 514 rows!\n",
    "#We did use here copys to the big data frame so we won't have any issues and to \"test\" our algorithm eventually\n",
    "#we had two specific problematic seasons we went to and checked if it worked on them or not.\n",
    "import pandas as pd"
   ]
  },
  {
   "cell_type": "code",
   "execution_count": 151,
   "id": "ca496f20",
   "metadata": {},
   "outputs": [],
   "source": [
    "big_Data=pd.read_csv('BigData.csv')"
   ]
  },
  {
   "cell_type": "code",
   "execution_count": 152,
   "id": "4a8f82c0",
   "metadata": {},
   "outputs": [],
   "source": [
    "big_Data = big_Data.iloc[: , 1:] #removing the first column\n",
    "big_Data_copy = big_Data.copy()"
   ]
  },
  {
   "cell_type": "code",
   "execution_count": 153,
   "id": "6ef34273",
   "metadata": {},
   "outputs": [],
   "source": [
    "big_Data_copy['attendance']=big_Data_copy['attendance'].fillna(0)"
   ]
  },
  {
   "cell_type": "code",
   "execution_count": 154,
   "id": "55b5a6d1",
   "metadata": {},
   "outputs": [],
   "source": [
    "def count_damaged_goods(data):\n",
    "    damaged=0\n",
    "    for x in range(data.shape[0]):\n",
    "        if(data.iloc[x,int(data.shape[1])-1] == 0):\n",
    "            damaged+=1\n",
    "    print(\"{0} damaged data\".format(damaged))"
   ]
  },
  {
   "cell_type": "code",
   "execution_count": 155,
   "id": "cb848018",
   "metadata": {},
   "outputs": [
    {
     "name": "stdout",
     "output_type": "stream",
     "text": [
      "523 damaged data\n"
     ]
    }
   ],
   "source": [
    "#here we count how many garbage we have in the dataframe, how many Nans [we translated to 0s for convience]\n",
    "#we had 523\n",
    "big_Data['attendance']=big_Data['attendance'].fillna(0)\n",
    "count_damaged_goods(big_Data)"
   ]
  },
  {
   "cell_type": "code",
   "execution_count": 156,
   "id": "a53ee6ec",
   "metadata": {},
   "outputs": [],
   "source": [
    "def find_rest_of_these_games_mean(team_1, team_2, big_Data_copy):\n",
    "    current_games_df = big_Data_copy[(big_Data_copy['team_1'] == team_1) & (big_Data_copy['team_2'] == team_2)]\n",
    "    return int(current_games_df[\"attendance\"].mean())"
   ]
  },
  {
   "cell_type": "code",
   "execution_count": 157,
   "id": "cf5e54ae",
   "metadata": {},
   "outputs": [],
   "source": [
    "for x in range(big_Data_copy.shape[0]):\n",
    "    if(big_Data_copy.iloc[x,int(big_Data_copy.shape[1])-1] == 0):\n",
    "        big_Data_copy.iloc[x,int(big_Data_copy.shape[1])-1] = find_rest_of_these_games_mean(big_Data_copy.iloc[x,0],big_Data_copy.iloc[x,1], big_Data_copy)"
   ]
  },
  {
   "cell_type": "code",
   "execution_count": 158,
   "id": "5e489140",
   "metadata": {},
   "outputs": [],
   "source": [
    "#we found out that only in this two seasons we have Nans in attendance so we need to 'clean this data'\n",
    "data_problematic_1 = big_Data_copy[big_Data_copy['current_season'] == '2008/09']\n",
    "data_problematic_2 = big_Data_copy[big_Data_copy['current_season'] == '2007/08']\n",
    "data_problematic = pd.concat([data_problematic_1,data_problematic_2])\n",
    "#we did \"tested\" this damaged data and we found much less Nones [displayed as 0 because we used fillna(0)]\n",
    "#now we know that those 0s means that we had only one specific game in the dataframe between them because this is their mean\n",
    "#Now we can allow ourselves to remove that damaged data."
   ]
  },
  {
   "cell_type": "code",
   "execution_count": 159,
   "id": "2c700ae5",
   "metadata": {},
   "outputs": [
    {
     "name": "stdout",
     "output_type": "stream",
     "text": [
      "9 damaged data\n"
     ]
    }
   ],
   "source": [
    "#counting how many we got left in the whole dataframe.\n",
    "count_damaged_goods(big_Data_copy)\n",
    "#we had 9 remaining 0s that we can remove now"
   ]
  },
  {
   "cell_type": "code",
   "execution_count": 160,
   "id": "a754ec60",
   "metadata": {},
   "outputs": [],
   "source": [
    "bigData_copy_2 = big_Data_copy[big_Data_copy['attendance'] != 0]"
   ]
  },
  {
   "cell_type": "code",
   "execution_count": 161,
   "id": "9837f2d5",
   "metadata": {},
   "outputs": [
    {
     "name": "stdout",
     "output_type": "stream",
     "text": [
      "0 damaged data\n"
     ]
    }
   ],
   "source": [
    "#counting how many we got left in the whole dataframe.\n",
    "count_damaged_goods(bigData_copy_2)\n",
    "#we have 0 remaining 0s -> DONE"
   ]
  },
  {
   "cell_type": "code",
   "execution_count": 162,
   "id": "281327b7",
   "metadata": {},
   "outputs": [],
   "source": [
    "bigData_copy_2.to_csv('BigData_cleaned.csv')"
   ]
  },
  {
   "cell_type": "code",
   "execution_count": null,
   "id": "c5f60b55",
   "metadata": {},
   "outputs": [],
   "source": []
  }
 ],
 "metadata": {
  "kernelspec": {
   "display_name": "Python 3 (ipykernel)",
   "language": "python",
   "name": "python3"
  },
  "language_info": {
   "codemirror_mode": {
    "name": "ipython",
    "version": 3
   },
   "file_extension": ".py",
   "mimetype": "text/x-python",
   "name": "python",
   "nbconvert_exporter": "python",
   "pygments_lexer": "ipython3",
   "version": "3.9.6"
  }
 },
 "nbformat": 4,
 "nbformat_minor": 5
}
