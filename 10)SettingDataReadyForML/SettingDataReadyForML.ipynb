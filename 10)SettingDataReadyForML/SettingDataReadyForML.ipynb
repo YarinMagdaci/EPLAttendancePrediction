{
 "cells": [
  {
   "cell_type": "code",
   "execution_count": 1,
   "id": "73d5edab",
   "metadata": {},
   "outputs": [],
   "source": [
    "import pandas as pd\n",
    "#data_one = pd.read_csv('bigData_cleaned2.csv')\n",
    "data_one = pd.read_csv('data_no_outliers.csv')"
   ]
  },
  {
   "cell_type": "code",
   "execution_count": 2,
   "id": "68aa3873",
   "metadata": {},
   "outputs": [],
   "source": [
    "data_one=data_one.iloc[:,1:]\n",
    "#dropping the first column, always appears in a bug"
   ]
  },
  {
   "cell_type": "code",
   "execution_count": 3,
   "id": "7df87dd1",
   "metadata": {},
   "outputs": [],
   "source": [
    "#creating a copy so we won't mess with the source data\n",
    "data_two = data_one.copy()"
   ]
  },
  {
   "cell_type": "code",
   "execution_count": 4,
   "id": "4f35b05b",
   "metadata": {},
   "outputs": [],
   "source": [
    "#creating function to have city to have numerical value\n",
    "def season_to_numeric(df, cities_set):\n",
    "    df['city']=df['city'].astype('category')\n",
    "    replace_map={}\n",
    "    for i,city in enumerate(cities_set):\n",
    "        replace_map[city]=i\n",
    "    df['city'].replace(replace_map, inplace=True)"
   ]
  },
  {
   "cell_type": "code",
   "execution_count": 5,
   "id": "0fea0820",
   "metadata": {},
   "outputs": [],
   "source": [
    "#Here we summon the function to make city to numeric value\n",
    "#what we did was to take as set all of the city values in the dataframe, as set so we won't have duplicates\n",
    "#then we just gave each praticular city a numerical value in the function and set in instead of the praticular city on the df\n",
    "cities_set = set(data_two['city'])\n",
    "season_to_numeric(data_two,cities_set)"
   ]
  },
  {
   "cell_type": "code",
   "execution_count": 6,
   "id": "28919093",
   "metadata": {},
   "outputs": [],
   "source": [
    "#giving months numerical values\n",
    "months_to_numerical_values_dict = {\n",
    "    'jan':1,\n",
    "     'feb':2,\n",
    "     'mar':3,\n",
    "     'apr':4,\n",
    "     'may':5, \n",
    "     'jun':6,\n",
    "     'jul':7,\n",
    "     'aug':8,\n",
    "     'sep':9,\n",
    "     'oct':10,\n",
    "     'nov':11,\n",
    "     'dec':12\n",
    "}\n",
    "data_two.replace(months_to_numerical_values_dict, inplace=True)"
   ]
  },
  {
   "cell_type": "code",
   "execution_count": 7,
   "id": "e948f40c",
   "metadata": {},
   "outputs": [],
   "source": [
    "#converting team_1_rating to integer\n",
    "data_two.team_1_rating=data_two['team_1_rating'].astype('int64')"
   ]
  },
  {
   "cell_type": "code",
   "execution_count": 8,
   "id": "a4328c72",
   "metadata": {},
   "outputs": [],
   "source": [
    "#converting team_2_rating to integer\n",
    "data_two.team_2_rating=data_two['team_2_rating'].astype('int64')"
   ]
  },
  {
   "cell_type": "code",
   "execution_count": 9,
   "id": "da464672",
   "metadata": {},
   "outputs": [],
   "source": [
    "#converting capcaity to integer\n",
    "data_two.capacity=data_two['capacity'].astype('int64')"
   ]
  },
  {
   "cell_type": "code",
   "execution_count": 10,
   "id": "0182b1f4",
   "metadata": {},
   "outputs": [],
   "source": [
    "#converting year to integer\n",
    "data_two.year=data_two['year'].astype('int64')"
   ]
  },
  {
   "cell_type": "code",
   "execution_count": 11,
   "id": "3d2df75f",
   "metadata": {},
   "outputs": [],
   "source": [
    "#converting derby to boolean\n",
    "data_two.derby=data_two['derby'].astype('bool')"
   ]
  },
  {
   "cell_type": "code",
   "execution_count": 12,
   "id": "abef0272",
   "metadata": {},
   "outputs": [],
   "source": [
    "#converting temprature to integer\n",
    "#converting precipitation to integer\n",
    "data_two.temprature=data_two['temprature'].astype('int64')\n",
    "data_two.precipitation=data_two['precipitation'].astype('int64')"
   ]
  },
  {
   "cell_type": "code",
   "execution_count": 13,
   "id": "28fe1052",
   "metadata": {},
   "outputs": [],
   "source": [
    "#converting attendance to integer\n",
    "data_two.attendance=data_two['attendance'].astype('int64')"
   ]
  },
  {
   "cell_type": "code",
   "execution_count": 14,
   "id": "9131ffda",
   "metadata": {},
   "outputs": [],
   "source": [
    "#converting occuper to integer\n",
    "data_two.occuper=data_two['occuper'].astype('int64')"
   ]
  },
  {
   "cell_type": "code",
   "execution_count": 18,
   "id": "97c5695d",
   "metadata": {},
   "outputs": [],
   "source": [
    "#creating teams dictionary and giving numerical values to each team, like Arsenal = 1 from now on in the pandas data frame\n",
    "#Bolton = 14... \n",
    "teams_list = list(data_two['team_1'].unique())\n",
    "teams_dictionary=dict()\n",
    "for i, team in enumerate(teams_list):\n",
    "    teams_dictionary[team] = i+1\n",
    "data_two['team_1'].replace(teams_dictionary, inplace=True)\n",
    "data_two['team_2'].replace(teams_dictionary, inplace=True)\n",
    "teams_dictionary_reversed = {v: k for k, v in teams_dictionary.items()}"
   ]
  },
  {
   "cell_type": "code",
   "execution_count": 19,
   "id": "da89771e",
   "metadata": {},
   "outputs": [],
   "source": [
    "#team_pairs = list(teams_dictionary_reversed.items())\n",
    "#reverse engineering what we just did so we will have dictionary in case we want to know who is 13 on the teams and we forgot\n",
    "#saving it as dataframe for future usage\n",
    "teams_dict_data_frame = pd.DataFrame({'team_number':teams_dictionary_reversed.keys(), 'team_name':teams_dictionary_reversed.values()})\n",
    "teams_dict_data_frame.to_csv('teams_dict_data_frame.csv')"
   ]
  },
  {
   "cell_type": "code",
   "execution_count": 20,
   "id": "05103a18",
   "metadata": {},
   "outputs": [],
   "source": [
    "#dropping columns we thought we might have had any usage in like stadium name or current season, right now we don't have any\n",
    "#usage in them so we got to conclusion we need to drop them\n",
    "data_three=data_two.copy().drop(['stadium', 'current_season'], axis=1)"
   ]
  },
  {
   "cell_type": "code",
   "execution_count": 21,
   "id": "dbe7ab6e",
   "metadata": {},
   "outputs": [],
   "source": [
    "#saving all of the changes we have done in the dataframe.\n",
    "data_three.to_csv('data_ready_for_ML_1.csv')"
   ]
  },
  {
   "cell_type": "code",
   "execution_count": null,
   "id": "c0395cb3",
   "metadata": {},
   "outputs": [],
   "source": []
  }
 ],
 "metadata": {
  "kernelspec": {
   "display_name": "Python 3 (ipykernel)",
   "language": "python",
   "name": "python3"
  },
  "language_info": {
   "codemirror_mode": {
    "name": "ipython",
    "version": 3
   },
   "file_extension": ".py",
   "mimetype": "text/x-python",
   "name": "python",
   "nbconvert_exporter": "python",
   "pygments_lexer": "ipython3",
   "version": "3.9.6"
  }
 },
 "nbformat": 4,
 "nbformat_minor": 5
}
