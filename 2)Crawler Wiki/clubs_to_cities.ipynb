{
 "cells": [
  {
   "cell_type": "code",
   "execution_count": 14,
   "id": "5901448e",
   "metadata": {},
   "outputs": [],
   "source": [
    "#Our goal here is to create a dataframe will help us to notice which team belongs to which city\n",
    "#So we will be able to determine wheather it is derby or not.\n",
    "#We used beautifulsoup here to parse our html info\n",
    "#went on the wiki table and created two empty lists\n",
    "#one list we collected all clubs and other list we did take all of the cities in parallel\n",
    "#We went on the table rows and took the first two columns every line\n",
    "#We did manipulate some strings so we will have it fit in the dataframe\n",
    "#we did create eventually a dictionary so we thought it might help us in the future codes.\n",
    "from bs4 import BeautifulSoup\n",
    "import requests\n",
    "import pandas as pd\n",
    "import re\n",
    "\n",
    "url = \"https://en.wikipedia.org/wiki/List_of_Premier_League_clubs\"\n",
    "response = requests.get(url)\n",
    "soup=BeautifulSoup(response.content, \"html.parser\")\n",
    "tbl=soup(\"table\", attrs={\"class\":\"wikitable\"})[0]\n",
    "\n",
    "empty_lst = list()\n",
    "df=pd.DataFrame({\"club\":empty_lst, \"city\":empty_lst})\n",
    "end_index=0\n",
    "current_city = ''\n",
    "for row in tbl(\"tr\"):#tr = table rows\n",
    "    cells=row(\"td\")#td means the cells\n",
    "    if(len(cells)<6):#if we have problem in specific row and we don't have 6 cols\n",
    "        continue\n",
    "    club=cells[0].get_text().strip()\n",
    "    current_city = cells[1].get_text().strip()\n",
    "    end_index = current_city.find(' ')\n",
    "    if(end_index!=-1):\n",
    "        current_city=current_city[:end_index]\n",
    "    current_city = re.findall('\\w+', current_city)[0]\n",
    "    club = re.findall('\\w+', club)[0]\n",
    "    df.loc[df.shape[0]] = [club, current_city]"
   ]
  },
  {
   "cell_type": "code",
   "execution_count": null,
   "id": "a513cff0",
   "metadata": {},
   "outputs": [],
   "source": [
    "'''\n",
    "#fixing two little bugs we had\n",
    "del clubs_to_city_dict['Wimbledon[b]']\n",
    "del clubs_to_city_dict['WolverhamptonWanderers']\n",
    "clubs_to_city_dict['Wolverhampton']='Wolverhampton'\n",
    "clubs_to_city_dict['Wolverhampton Wanderers']='Wolverhampton'\n",
    "clubs_to_city_dict['Wimbledon'] = 'London'\n",
    "clubs_to_city_dict['Queens Park Rangers'] = 'London'\n",
    "clubs_to_city_dict['AFC Bournemouth'] = 'Bournemouth'\n",
    "clubs_to_city_dict['Manchester United'] = 'Manchester'\n",
    "clubs_to_city_dict['Brighton and Hove Albion']='Brighton'\n",
    "'''"
   ]
  },
  {
   "cell_type": "code",
   "execution_count": 16,
   "id": "06f7f38c",
   "metadata": {},
   "outputs": [],
   "source": [
    "df.to_csv('clubs_to_cities.csv')"
   ]
  }
 ],
 "metadata": {
  "kernelspec": {
   "display_name": "Python 3 (ipykernel)",
   "language": "python",
   "name": "python3"
  },
  "language_info": {
   "codemirror_mode": {
    "name": "ipython",
    "version": 3
   },
   "file_extension": ".py",
   "mimetype": "text/x-python",
   "name": "python",
   "nbconvert_exporter": "python",
   "pygments_lexer": "ipython3",
   "version": "3.9.6"
  }
 },
 "nbformat": 4,
 "nbformat_minor": 5
}
