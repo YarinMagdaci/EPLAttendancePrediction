{
 "cells": [
  {
   "cell_type": "code",
   "execution_count": 1,
   "id": "29b101fe",
   "metadata": {},
   "outputs": [],
   "source": [
    "import pandas as pd\n",
    "import sklearn\n",
    "from sklearn.model_selection import train_test_split\n",
    "from sklearn.preprocessing import StandardScaler, MinMaxScaler\n",
    "from sklearn.linear_model import LogisticRegression\n",
    "from sklearn import linear_model\n",
    "import matplotlib.pyplot as plt\n",
    "%matplotlib inline"
   ]
  },
  {
   "cell_type": "code",
   "execution_count": 2,
   "id": "f98dab6d",
   "metadata": {},
   "outputs": [],
   "source": [
    "df = pd.read_csv('data_ready_for_ML_BE.csv')\n",
    "teams_to_num_df = pd.read_csv('teams_dict_data_frame.csv')"
   ]
  },
  {
   "cell_type": "code",
   "execution_count": 4,
   "id": "f44b9796",
   "metadata": {},
   "outputs": [],
   "source": [
    "#handling a bug\n",
    "#df = df.iloc[:,1:]"
   ]
  },
  {
   "cell_type": "code",
   "execution_count": 5,
   "id": "fabdab1d",
   "metadata": {},
   "outputs": [],
   "source": [
    "def give_me_from_this_df_dictionary(teams_to_num_df):\n",
    "    team_number = teams_to_num_df['team_number']\n",
    "    team_name = teams_to_num_df['team_name']\n",
    "    return {team_number[i]: team_name[i] for i in range(len(team_number))}"
   ]
  },
  {
   "cell_type": "code",
   "execution_count": 6,
   "id": "58b14e49",
   "metadata": {},
   "outputs": [],
   "source": [
    "teams_dictionary = give_me_from_this_df_dictionary(teams_to_num_df)"
   ]
  },
  {
   "cell_type": "code",
   "execution_count": 7,
   "id": "04be4b5d",
   "metadata": {},
   "outputs": [],
   "source": [
    "#fixing the dent\n",
    "teams_dictionary[0]='Empty dataset'"
   ]
  },
  {
   "cell_type": "code",
   "execution_count": 8,
   "id": "851d9df9",
   "metadata": {},
   "outputs": [],
   "source": [
    "data_frames_list = list()"
   ]
  },
  {
   "cell_type": "code",
   "execution_count": 9,
   "id": "17a1cb25",
   "metadata": {},
   "outputs": [],
   "source": [
    "for x in sorted(teams_dictionary):\n",
    "    new_data_frame = df[df[\"team_1\"] == x]\n",
    "    new_data_frame = new_data_frame.iloc[:,1:]\n",
    "    data_frames_list.append(new_data_frame)"
   ]
  },
  {
   "cell_type": "code",
   "execution_count": 10,
   "id": "badc1dc8",
   "metadata": {},
   "outputs": [],
   "source": [
    "#Reversing the dictionary:\n",
    "inv_teams_nums_dict = {v: k for k, v in teams_dictionary.items()}"
   ]
  },
  {
   "cell_type": "code",
   "execution_count": 11,
   "id": "7b2b7acc",
   "metadata": {},
   "outputs": [],
   "source": [
    "def ml_algorithm_linear_regression_v1(this_team, inv_teams_nums_dict, data_frames_list):\n",
    "    lr_rating = linear_model.LinearRegression() # create a linear regression object\n",
    "\n",
    "    current_data_frame=data_frames_list[inv_teams_nums_dict[this_team]]\n",
    "    current_data_frame = current_data_frame[(current_data_frame['year'] != 1995) & (current_data_frame['year'] != 1996) & (current_data_frame['year'] != 1997) & (current_data_frame['year'] != 1998) & (current_data_frame['year'] != 1999)]\n",
    "\n",
    "    x = current_data_frame['year'].values.reshape(current_data_frame['year'].shape[0],1)\n",
    "    y = current_data_frame['attendance'].values.reshape(current_data_frame['attendance'].shape[0],1)\n",
    "\n",
    "    lr_rating.fit(X=x, y=y)\n",
    "\n",
    "    plt.scatter(x, y,  color='black')\n",
    "    plt.plot(x, lr_rating.predict(x), color='blue', linewidth=3)\n",
    "\n",
    "    plt.xlabel('Year')\n",
    "    plt.ylabel('Attendance')\n",
    "    plt.show()\n",
    "\n",
    "    print(\"Slope:\",lr_rating.coef_)\n",
    "    print(\"Intercept:\",lr_rating.intercept_)\n",
    "    print(\"R2:\",lr_rating.score(x,y))"
   ]
  },
  {
   "cell_type": "code",
   "execution_count": 12,
   "id": "ad2d2704",
   "metadata": {},
   "outputs": [],
   "source": [
    "def ml_algorithm_with_multiple_var(this_team, inv_teams_nums_dict, data_frames_list):\n",
    "    lr_rating = linear_model.LinearRegression() \n",
    "    \n",
    "    current_data_frame=data_frames_list[inv_teams_nums_dict[this_team]]\n",
    "    print(current_data_frame)\n",
    "    current_data_frame = current_data_frame[(current_data_frame['year'] != 1995) & (current_data_frame['year'] != 1996) & (current_data_frame['year'] != 1997) & (current_data_frame['year'] != 1998) & (current_data_frame['year'] != 1999)]\n",
    "    x = current_data_frame[[\"team_1_rating\",\"team_2_rating\", \"month\", \"derby\", \"city\", \"year\"]]\n",
    "    y = current_data_frame['attendance']\n",
    "    lr_rating.fit(X=x, y=y);\n",
    "    \n",
    "    print(\"Slope:\",lr_rating.coef_)\n",
    "    print(\"Intercept:\",lr_rating.intercept_)\n",
    "    print(\"R2:\",lr_rating.score(x,y))"
   ]
  },
  {
   "cell_type": "code",
   "execution_count": 14,
   "id": "ee8b6dde",
   "metadata": {},
   "outputs": [
    {
     "name": "stdout",
     "output_type": "stream",
     "text": [
      "Insert team name: Manchester City\n",
      "Insert 1 for one variable linear regression / 2 for multiply variables linear regressions: 1\n"
     ]
    },
    {
     "data": {
      "image/png": "[encoded data removed]",
      "text/plain": [
       "<Figure size 432x288 with 1 Axes>"
      ]
     },
     "metadata": {
      "needs_background": "light"
     },
     "output_type": "display_data"
    },
    {
     "name": "stdout",
     "output_type": "stream",
     "text": [
      "Slope: [[969.17139506]]\n",
      "Intercept: [-1902116.59503409]\n",
      "R2: 0.6107997548015636\n"
     ]
    }
   ],
   "source": [
    "#Write here the team name you would like to check:\n",
    "team_name = input(\"Insert team name: \")\n",
    "option = int(input(\"Insert 1 for one variable linear regression / 2 for multiply variables linear regressions: \"))\n",
    "if(option == 1):\n",
    "    ml_algorithm_linear_regression_v1(team_name, inv_teams_nums_dict, data_frames_list)\n",
    "else:\n",
    "    ml_algorithm_with_multiple_var(team_name, inv_teams_nums_dict, data_frames_list)"
   ]
  },
  {
   "cell_type": "code",
   "execution_count": null,
   "id": "bf843d7b",
   "metadata": {},
   "outputs": [],
   "source": []
  }
 ],
 "metadata": {
  "kernelspec": {
   "display_name": "Python 3 (ipykernel)",
   "language": "python",
   "name": "python3"
  },
  "language_info": {
   "codemirror_mode": {
    "name": "ipython",
    "version": 3
   },
   "file_extension": ".py",
   "mimetype": "text/x-python",
   "name": "python",
   "nbconvert_exporter": "python",
   "pygments_lexer": "ipython3",
   "version": "3.9.6"
  }
 },
 "nbformat": 4,
 "nbformat_minor": 5
}
