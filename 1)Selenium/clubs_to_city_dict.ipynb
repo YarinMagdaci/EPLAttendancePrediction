{
 "cells": [
  {
   "cell_type": "code",
   "execution_count": 30,
   "id": "7cfcbe40",
   "metadata": {},
   "outputs": [],
   "source": [
    "from bs4 import BeautifulSoup\n",
    "import requests\n",
    "import pandas as pd\n",
    "url = \"https://en.wikipedia.org/wiki/List_of_Premier_League_clubs\"\n",
    "response = requests.get(url)\n",
    "soup=BeautifulSoup(response.content, \"html.parser\")\n"
   ]
  },
  {
   "cell_type": "code",
   "execution_count": 31,
   "id": "23eb241a",
   "metadata": {},
   "outputs": [],
   "source": [
    "tbl=soup(\"table\", attrs={\"class\":\"wikitable\"})[0]"
   ]
  },
  {
   "cell_type": "code",
   "execution_count": 112,
   "id": "9ce462b7",
   "metadata": {},
   "outputs": [],
   "source": [
    "from bs4 import BeautifulSoup\n",
    "import requests\n",
    "import pandas as pd\n",
    "url = \"https://en.wikipedia.org/wiki/List_of_Premier_League_clubs\"\n",
    "response = requests.get(url)\n",
    "soup=BeautifulSoup(response.content, \"html.parser\")\n",
    "\n",
    "tbl=soup(\"table\", attrs={\"class\":\"wikitable\"})[0]\n",
    "\n",
    "clubs=list()\n",
    "cities=list()\n",
    "end_index=0\n",
    "current_city = ''\n",
    "for row in tbl(\"tr\"):#tr = table rows\n",
    "    cells=row(\"td\")#td means the cells\n",
    "    if(len(cells)<6):#if we have problem in specific row and we don't have 6 cols\n",
    "        continue\n",
    "    clubs.append(cells[0].get_text().strip())\n",
    "    current_city = cells[1].get_text().strip()\n",
    "    end_index = current_city.find(' ')\n",
    "    if(end_index!=-1):\n",
    "        current_city=current_city[:end_index]\n",
    "    cities.append(current_city)\n",
    "    \n",
    "zip_iterator = zip(clubs, cities)\n",
    "clubs_to_city_dict = dict(zip_iterator)\n",
    "clubs_to_city_dict"
   ]
  },
  {
   "cell_type": "code",
   "execution_count": 114,
   "id": "4c258c3b",
   "metadata": {},
   "outputs": [
    {
     "data": {
      "text/plain": [
       "{'Arsenal': 'London',\n",
       " 'Aston Villa': 'Birmingham',\n",
       " 'Barnsley': 'Barnsley',\n",
       " 'Birmingham City': 'Birmingham',\n",
       " 'Blackburn Rovers': 'Blackburn',\n",
       " 'Blackpool': 'Blackpool',\n",
       " 'Bolton Wanderers': 'Bolton',\n",
       " 'Bournemouth': 'Bournemouth',\n",
       " 'Bradford City': 'Bradford',\n",
       " 'Brentford': 'London',\n",
       " 'Brighton & Hove Albion': 'Brighton',\n",
       " 'Burnley': 'Burnley',\n",
       " 'Cardiff City': 'Cardiff',\n",
       " 'Charlton Athletic': 'London',\n",
       " 'Chelsea': 'London',\n",
       " 'Coventry City': 'Coventry',\n",
       " 'Crystal Palace': 'London',\n",
       " 'Derby County': 'Derby',\n",
       " 'Everton': 'Liverpool',\n",
       " 'Fulham': 'London',\n",
       " 'Huddersfield Town': 'Huddersfield',\n",
       " 'Hull City': 'Kingston',\n",
       " 'Ipswich Town': 'Ipswich',\n",
       " 'Leeds United': 'Leeds',\n",
       " 'Leicester City': 'Leicester',\n",
       " 'Liverpool': 'Liverpool',\n",
       " 'Manchester City': 'Manchester',\n",
       " 'Manchester United': 'Old',\n",
       " 'Middlesbrough': 'Middlesbrough',\n",
       " 'Newcastle United': 'Newcastle',\n",
       " 'Norwich City': 'Norwich',\n",
       " 'Nottingham Forest': 'West',\n",
       " 'Oldham Athletic': 'Oldham',\n",
       " 'Portsmouth': 'Portsmouth',\n",
       " 'Queens ParkRangers': 'London',\n",
       " 'Reading': 'Reading',\n",
       " 'Sheffield United': 'Sheffield',\n",
       " 'Sheffield Wednesday': 'Sheffield',\n",
       " 'Southampton': 'Southampton',\n",
       " 'Stoke City': 'Stoke-on-Trent',\n",
       " 'Sunderland': 'Sunderland',\n",
       " 'Swansea City': 'Swansea',\n",
       " 'Swindon Town': 'Swindon',\n",
       " 'Tottenham Hotspur': 'London',\n",
       " 'Watford': 'Watford',\n",
       " 'West Bromwich Albion': 'West',\n",
       " 'West Ham United': 'London',\n",
       " 'Wigan Athletic': 'Wigan',\n",
       " 'Wimbledon[b]': 'London',\n",
       " 'WolverhamptonWanderers': 'Wolverhampton'}"
      ]
     },
     "execution_count": 114,
     "metadata": {},
     "output_type": "execute_result"
    }
   ],
   "source": [
    "zip_iterator = zip(clubs, cities)\n",
    "clubs_to_city_dict = dict(zip_iterator)\n",
    "clubs_to_city_dict"
   ]
  },
  {
   "cell_type": "code",
   "execution_count": null,
   "id": "b325adf3",
   "metadata": {},
   "outputs": [],
   "source": []
  }
 ],
 "metadata": {
  "kernelspec": {
   "display_name": "Python 3 (ipykernel)",
   "language": "python",
   "name": "python3"
  },
  "language_info": {
   "codemirror_mode": {
    "name": "ipython",
    "version": 3
   },
   "file_extension": ".py",
   "mimetype": "text/x-python",
   "name": "python",
   "nbconvert_exporter": "python",
   "pygments_lexer": "ipython3",
   "version": "3.9.6"
  }
 },
 "nbformat": 4,
 "nbformat_minor": 5
}
